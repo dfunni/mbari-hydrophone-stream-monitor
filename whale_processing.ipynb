{
 "cells": [
  {
   "cell_type": "code",
   "execution_count": null,
   "metadata": {},
   "outputs": [],
   "source": [
    "import numpy as np\n",
    "import matplotlib.pyplot as plt\n",
    "from pydub import AudioSegment\n",
    "\n",
    "from scipy.fft import fft, fftfreq\n",
    "from scipy.signal import spectrogram\n",
    "import yaml\n",
    "import os\n",
    "\n",
    "%matplotlib inline\n",
    "plt.rcParams['figure.figsize'] = [18, 5]"
   ]
  },
  {
   "cell_type": "code",
   "execution_count": null,
   "metadata": {},
   "outputs": [],
   "source": [
    "config_file = \"config.yaml\"\n",
    "with open(config_file, \"r\") as f:\n",
    "    config = yaml.safe_load(f.read())"
   ]
  },
  {
   "cell_type": "code",
   "execution_count": null,
   "metadata": {},
   "outputs": [],
   "source": [
    "audio = AudioSegment.from_mp3(\"/data/whale/20230920_002737Z.mp3\")\n",
    "audio"
   ]
  },
  {
   "cell_type": "code",
   "execution_count": null,
   "metadata": {},
   "outputs": [],
   "source": [
    "class MarsClip(object):\n",
    "\n",
    "    def __init__(self, filepath):\n",
    "        self.filepath = filepath\n",
    "        self.directory, self.filename = os.path.split(self.filepath)\n",
    "        self.audio = AudioSegment.from_mp3(filepath)\n",
    "        self.samples = np.array(self.audio.get_array_of_samples())[::2] # the samples are interleaved channel samples, channels are equal (mono)\n",
    "        \n",
    "\n",
    "    def view_spectrogram(self):\n",
    "        '''View spectrogram using matplotlib specgram function\n",
    "        '''\n",
    "        sxx, freqs, t, _ = plt.specgram(self.samples, NFFT=512, noverlap=0, cmap='jet')\n",
    "        plt.show()\n",
    "\n",
    "\n",
    "    def get_spec_img(self):\n",
    "        '''Calculate spectrogram using scipy.signal.spectrogram\n",
    "        Returns:\n",
    "            sxx: numpy array of spectrogram data\n",
    "        '''\n",
    "        f, t, sxx = spectrogram(self.samples, **config['spectrogram_params'])\n",
    "        return sxx, f, t\n",
    "    \n",
    "    def plot_spec_img(self):\n",
    "        sxx, f, t = self.get_spec_img()\n",
    "        # plt.imshow(np.flipud(10*np.log10(sxx)), cmap='jet')\n",
    "        def forward(x):\n",
    "            return abs(x)**.8\n",
    "\n",
    "        def inverse(x):\n",
    "            return abs(x)**(1/.8)\n",
    "\n",
    "        plt.yscale(\"function\", functions=(forward, inverse))\n",
    "        plt.ylim((0, config['spectrogram_params']['fs']//2))       \n",
    "        plt.pcolormesh(t, f, 10*np.log10(sxx), cmap='jet')\n",
    "        plt.show()\n",
    "        return f\n",
    "    \n",
    "    def get_filename(self):\n",
    "        print(self.filename)\n",
    "        return self.filename\n",
    "    \n",
    "    def play(self):\n",
    "        return self.audio\n",
    "    \n",
    "    def mv_whale(self):\n",
    "        new_path = os.path.join(\"/data/whale/\", self.filename)\n",
    "        os.rename(self.filepath, new_path)\n",
    "        self.filepath = new_path\n",
    "        return self.filepath\n",
    "        \n",
    "\n",
    "    def mv_nowhale(self):\n",
    "        new_path = os.path.join(\"/data/no_whale/\", self.filename)\n",
    "        os.rename(self.filepath, new_path)\n",
    "        self.filepath = new_path\n",
    "        return self.filepath\n",
    "\n",
    "    def cp_interesiting(self):\n",
    "        new_path = os.path.join(\"/data/interesting/\", self.filename)\n",
    "        os.rename(self.filepath, new_path)\n",
    "        self.filepath = new_path\n",
    "        return self.filepath"
   ]
  },
  {
   "cell_type": "code",
   "execution_count": null,
   "metadata": {},
   "outputs": [],
   "source": [
    "class DataDir(object):\n",
    "\n",
    "    def __init__(self, directory):\n",
    "        self.directory = directory\n",
    "        self.file_list = os.listdir(directory)\n",
    "    \n",
    "    def __iter__(self):\n",
    "        self.index = 0\n",
    "        return self\n",
    "\n",
    "    def __next__(self):\n",
    "        filepath = self.file_list[self.index]\n",
    "        self.index += 1\n",
    "        return self.directory + filepath\n"
   ]
  },
  {
   "cell_type": "code",
   "execution_count": null,
   "metadata": {},
   "outputs": [],
   "source": [
    "data = DataDir(\"/data/data/\")\n",
    "datafile_iter = iter(data)"
   ]
  },
  {
   "cell_type": "code",
   "execution_count": null,
   "metadata": {},
   "outputs": [],
   "source": [
    "my_clip = MarsClip(next(datafile_iter))\n",
    "my_clip.plot_spec_img()\n",
    "my_clip.get_filename()\n",
    "my_clip.play()"
   ]
  },
  {
   "cell_type": "code",
   "execution_count": null,
   "metadata": {},
   "outputs": [],
   "source": [
    "my_clip.mv_whale()"
   ]
  },
  {
   "cell_type": "code",
   "execution_count": null,
   "metadata": {},
   "outputs": [],
   "source": [
    "my_clip.mv_nowhale()"
   ]
  },
  {
   "cell_type": "code",
   "execution_count": null,
   "metadata": {},
   "outputs": [],
   "source": [
    "ax = np.array(audio.get_array_of_samples())[::2] # the samples are interleaved channel samples, channels are equal (mono)\n",
    "f, t, sxx = spectrogram(x, **config['spectrogram_params'])\n",
    "print(sxx.shape)\n",
    "plt.imshow(np.flipud(10*np.log10(sxx)), cmap='jet')\n",
    "plt.show()"
   ]
  },
  {
   "cell_type": "code",
   "execution_count": null,
   "metadata": {},
   "outputs": [],
   "source": [
    "N = 512\n",
    "fs = audio.frame_rate\n",
    "T = 1.0/fs\n",
    "xs = fftfreq(N, T)[:N//2]\n",
    "ys = 10*np.log10(np.abs(fft(x, n=N)))[:N//2]\n",
    "# plt.plot(xs, ys)\n",
    "# plt.show()"
   ]
  },
  {
   "cell_type": "code",
   "execution_count": null,
   "metadata": {},
   "outputs": [],
   "source": [
    "x = x[:N*(x.size//N)]\n",
    "x = x.reshape((x.size//N, N))"
   ]
  },
  {
   "cell_type": "code",
   "execution_count": null,
   "metadata": {},
   "outputs": [],
   "source": [
    "ys = []\n",
    "for segment in x:\n",
    "    ys.append(10*np.log10(np.abs(fft(segment)))[:N//2])\n",
    "ys = np.array(ys)"
   ]
  },
  {
   "cell_type": "code",
   "execution_count": null,
   "metadata": {},
   "outputs": [],
   "source": [
    "plt.imshow(np.flipud(ys.T), cmap='viridis')\n",
    "plt.show()"
   ]
  }
 ],
 "metadata": {
  "kernelspec": {
   "display_name": "Python 3",
   "language": "python",
   "name": "python3"
  },
  "language_info": {
   "codemirror_mode": {
    "name": "ipython",
    "version": 3
   },
   "file_extension": ".py",
   "mimetype": "text/x-python",
   "name": "python",
   "nbconvert_exporter": "python",
   "pygments_lexer": "ipython3",
   "version": "3.11.5"
  }
 },
 "nbformat": 4,
 "nbformat_minor": 2
}
